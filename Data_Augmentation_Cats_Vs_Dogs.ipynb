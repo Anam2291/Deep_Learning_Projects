{
  "cells": [
    {
      "cell_type": "markdown",
      "metadata": {
        "id": "view-in-github",
        "colab_type": "text"
      },
      "source": [
        "<a href=\"https://colab.research.google.com/github/Anam2291/Deep_Learning_Projects/blob/main/Data_Augmentation_Cats_Vs_Dogs.ipynb\" target=\"_parent\"><img src=\"https://colab.research.google.com/assets/colab-badge.svg\" alt=\"Open In Colab\"/></a>"
      ]
    },
    {
      "cell_type": "markdown",
      "source": [
        "# **Setting Up the Kaggle API**"
      ],
      "metadata": {
        "id": "ckzkbysJawbX"
      }
    },
    {
      "cell_type": "code",
      "execution_count": 17,
      "metadata": {
        "id": "Kr5olbM_T6Tp"
      },
      "outputs": [],
      "source": [
        "!mkdir -p ~/.kaggle\n",
        "!cp kaggle.json ~/.kaggle/\n"
      ]
    },
    {
      "cell_type": "markdown",
      "source": [
        "# **Downloading the Dataset**"
      ],
      "metadata": {
        "id": "HpxBcUGFa3UU"
      }
    },
    {
      "cell_type": "code",
      "execution_count": 18,
      "metadata": {
        "colab": {
          "base_uri": "https://localhost:8080/"
        },
        "id": "vcC-mqk3WXlm",
        "outputId": "7dcf6969-ef50-4bd0-d797-ebe6a383f8f8"
      },
      "outputs": [
        {
          "output_type": "stream",
          "name": "stdout",
          "text": [
            "Warning: Your Kaggle API key is readable by other users on this system! To fix this, you can run 'chmod 600 /root/.kaggle/kaggle.json'\n",
            "Dataset URL: https://www.kaggle.com/datasets/salader/dogs-vs-cats\n",
            "License(s): unknown\n",
            "dogs-vs-cats.zip: Skipping, found more recently modified local copy (use --force to force download)\n"
          ]
        }
      ],
      "source": [
        "!kaggle datasets download -d salader/dogs-vs-cats"
      ]
    },
    {
      "cell_type": "markdown",
      "source": [
        "# **Extracting the Dataset**"
      ],
      "metadata": {
        "id": "-YBGA96AbDzy"
      }
    },
    {
      "cell_type": "markdown",
      "source": [
        "This extracts the dataset into the /content directory."
      ],
      "metadata": {
        "id": "Enf92S2qbMV1"
      }
    },
    {
      "cell_type": "code",
      "execution_count": 19,
      "metadata": {
        "id": "mclXRw3bWYDd"
      },
      "outputs": [],
      "source": [
        "import zipfile\n",
        "zip_ref = zipfile.ZipFile('/content/dogs-vs-cats.zip', 'r')\n",
        "zip_ref.extractall('/content')\n",
        "zip_ref.close()"
      ]
    },
    {
      "cell_type": "code",
      "source": [
        "from tensorflow.keras.preprocessing.image import ImageDataGenerator\n",
        "\n",
        "# Define data augmentation\n",
        "train_datagen = ImageDataGenerator(\n",
        "    rescale=1.0/255,         # Normalize pixel values\n",
        "    rotation_range=40,       # Randomly rotate images\n",
        "    width_shift_range=0.2,   # Randomly shift images horizontally\n",
        "    height_shift_range=0.2,  # Randomly shift images vertically\n",
        "    shear_range=0.2,         # Shear transformation\n",
        "    zoom_range=0.2,          # Random zoom\n",
        "    horizontal_flip=True,    # Flip images horizontally\n",
        "    fill_mode='nearest'      # Fill any new pixels\n",
        ")\n",
        "\n"
      ],
      "metadata": {
        "id": "ZNVRFphIcGDJ"
      },
      "execution_count": null,
      "outputs": []
    },
    {
      "cell_type": "code",
      "source": [
        "# Apply to training data\n",
        "train_generator = train_datagen.flow_from_directory(\n",
        "    '/content/train',        # Path to training data\n",
        "    target_size=(150, 150),  # Resize all images to 150x150\n",
        "    batch_size=32,\n",
        "    class_mode='binary'      # Use 'binary' for binary classification\n",
        ")\n",
        "\n",
        "# For validation, use rescaling only (no augmentation)\n",
        "validation_datagen = ImageDataGenerator(rescale=1.0/255)\n",
        "validation_generator = validation_datagen.flow_from_directory(\n",
        "    '/content/validation',   # Path to validation data\n",
        "    target_size=(150, 150),\n",
        "    batch_size=32,\n",
        "    class_mode='binary'\n",
        ")\n"
      ],
      "metadata": {
        "id": "UtL3YjK3cLrN"
      },
      "execution_count": null,
      "outputs": []
    },
    {
      "cell_type": "markdown",
      "source": [
        "# **Training Model Using model.fit**\n",
        "\n",
        "We'll use a simple Convolutional Neural Network (CNN) for binary classification (Cats vs. Dogs)."
      ],
      "metadata": {
        "id": "thzdsv8ycsiH"
      }
    },
    {
      "cell_type": "code",
      "source": [
        "from tensorflow.keras.models import Sequential\n",
        "from tensorflow.keras.layers import Conv2D, MaxPooling2D, Flatten, Dense, Dropout\n",
        "\n",
        "model = Sequential([\n",
        "    Conv2D(32, (3, 3), activation='relu', input_shape=(150, 150, 3)),\n",
        "    MaxPooling2D(2, 2),\n",
        "\n",
        "    Conv2D(64, (3, 3), activation='relu'),\n",
        "    MaxPooling2D(2, 2),\n",
        "\n",
        "    Conv2D(128, (3, 3), activation='relu'),\n",
        "    MaxPooling2D(2, 2),\n",
        "\n",
        "    Flatten(),\n",
        "    Dense(512, activation='relu'),\n",
        "    Dropout(0.5),\n",
        "    Dense(1, activation='sigmoid')  # Binary classification\n",
        "])\n"
      ],
      "metadata": {
        "id": "_apQcex4cve8"
      },
      "execution_count": null,
      "outputs": []
    },
    {
      "cell_type": "markdown",
      "source": [
        "# **Compile the Model**"
      ],
      "metadata": {
        "id": "mk7AuFAnc_lK"
      }
    },
    {
      "cell_type": "code",
      "source": [
        "from tensorflow.keras.optimizers import RMSprop\n",
        "\n",
        "model.compile(\n",
        "    loss='binary_crossentropy',         # Loss function for binary classification\n",
        "    optimizer=RMSprop(learning_rate=1e-4),\n",
        "    metrics=['accuracy']                # Track accuracy during training\n",
        ")\n"
      ],
      "metadata": {
        "id": "JRYW5sXmdBKj"
      },
      "execution_count": null,
      "outputs": []
    },
    {
      "cell_type": "markdown",
      "source": [
        "# **Train the Model**"
      ],
      "metadata": {
        "id": "Alh7oAJHdIAI"
      }
    },
    {
      "cell_type": "code",
      "source": [
        "history = model.fit(\n",
        "    train_generator,                   # Training data generator\n",
        "    steps_per_epoch=100,               # Number of training batches per epoch\n",
        "    epochs=10,                         # Number of epochs to train\n",
        "    validation_data=validation_generator,  # Validation data generator\n",
        "    validation_steps=50                # Number of validation batches per epoch\n",
        ")\n"
      ],
      "metadata": {
        "id": "cJo5pUr1dJg0"
      },
      "execution_count": null,
      "outputs": []
    },
    {
      "cell_type": "markdown",
      "source": [
        "# **Visualize Training and Validation Performance**"
      ],
      "metadata": {
        "id": "ZyGDeWuIdY6X"
      }
    },
    {
      "cell_type": "code",
      "source": [
        "import matplotlib.pyplot as plt\n",
        "\n",
        "# Plot training and validation accuracy\n",
        "plt.plot(history.history['accuracy'], label='Training Accuracy')\n",
        "plt.plot(history.history['val_accuracy'], label='Validation Accuracy')\n",
        "plt.title('Model Accuracy')\n",
        "plt.xlabel('Epochs')\n",
        "plt.ylabel('Accuracy')\n",
        "plt.legend()\n",
        "plt.show()"
      ],
      "metadata": {
        "id": "3bUNYbmJdgtr"
      },
      "execution_count": null,
      "outputs": []
    },
    {
      "cell_type": "code",
      "source": [
        "# Plot training and validation loss\n",
        "plt.plot(history.history['loss'], label='Training Loss')\n",
        "plt.plot(history.history['val_loss'], label='Validation Loss')\n",
        "plt.title('Model Loss')\n",
        "plt.xlabel('Epochs')\n",
        "plt.ylabel('Loss')\n",
        "plt.legend()\n",
        "plt.show()\n"
      ],
      "metadata": {
        "id": "wQ1cN733disd"
      },
      "execution_count": null,
      "outputs": []
    }
  ],
  "metadata": {
    "accelerator": "GPU",
    "colab": {
      "gpuType": "T4",
      "provenance": [],
      "authorship_tag": "ABX9TyN1a1ng5ROu+uSycbozOKjL",
      "include_colab_link": true
    },
    "kernelspec": {
      "display_name": "Python 3",
      "name": "python3"
    },
    "language_info": {
      "name": "python"
    }
  },
  "nbformat": 4,
  "nbformat_minor": 0
}